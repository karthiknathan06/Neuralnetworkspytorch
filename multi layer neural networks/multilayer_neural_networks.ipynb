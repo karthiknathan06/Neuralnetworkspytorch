{
  "nbformat": 4,
  "nbformat_minor": 0,
  "metadata": {
    "colab": {
      "name": "multilayer neural networks",
      "version": "0.3.2",
      "provenance": []
    },
    "kernelspec": {
      "name": "python3",
      "display_name": "Python 3"
    }
  },
  "cells": [
    {
      "metadata": {
        "id": "sad_NRqQFkMx",
        "colab_type": "code",
        "colab": {}
      },
      "cell_type": "code",
      "source": [
        "import torch"
      ],
      "execution_count": 0,
      "outputs": []
    },
    {
      "metadata": {
        "id": "sMF4SuSuFm8U",
        "colab_type": "code",
        "colab": {}
      },
      "cell_type": "code",
      "source": [
        "def activation_function(x):\n",
        "  return 1/(1+torch.exp(-x))"
      ],
      "execution_count": 0,
      "outputs": []
    },
    {
      "metadata": {
        "id": "yc_TElW9Fzd-",
        "colab_type": "code",
        "colab": {}
      },
      "cell_type": "code",
      "source": [
        "torch.manual_seed(7)\n",
        "features=torch.randn(1,5)\n",
        "weights=torch.randn_like(features)\n",
        "bias=torch.randn(1,1)"
      ],
      "execution_count": 0,
      "outputs": []
    },
    {
      "metadata": {
        "id": "hXZ3pFWjF7SZ",
        "colab_type": "code",
        "colab": {}
      },
      "cell_type": "code",
      "source": [
        "y=activation_function(torch.mm(features,weights.view(5,1))+bias)"
      ],
      "execution_count": 0,
      "outputs": []
    },
    {
      "metadata": {
        "id": "JwxQaFKhGHPI",
        "colab_type": "code",
        "colab": {
          "base_uri": "https://localhost:8080/",
          "height": 35
        },
        "outputId": "c165202b-0c67-47c1-a2c5-c9999c9e3b7b"
      },
      "cell_type": "code",
      "source": [
        "y"
      ],
      "execution_count": 6,
      "outputs": [
        {
          "output_type": "execute_result",
          "data": {
            "text/plain": [
              "tensor([[0.1595]])"
            ]
          },
          "metadata": {
            "tags": []
          },
          "execution_count": 6
        }
      ]
    },
    {
      "metadata": {
        "id": "gD01g4ciGLlR",
        "colab_type": "text"
      },
      "cell_type": "markdown",
      "source": [
        " **Lets do a multi layer neural network**"
      ]
    },
    {
      "metadata": {
        "id": "TCUab5ivGV_X",
        "colab_type": "code",
        "colab": {
          "base_uri": "https://localhost:8080/",
          "height": 35
        },
        "outputId": "11a2bbbd-5e1f-41e1-f47a-e977c501708f"
      },
      "cell_type": "code",
      "source": [
        "torch.manual_seed(7)\n",
        "features=torch.randn((1,3))\n",
        "features"
      ],
      "execution_count": 32,
      "outputs": [
        {
          "output_type": "execute_result",
          "data": {
            "text/plain": [
              "tensor([[-0.1468,  0.7861,  0.9468]])"
            ]
          },
          "metadata": {
            "tags": []
          },
          "execution_count": 32
        }
      ]
    },
    {
      "metadata": {
        "id": "Q6v5hawAIYwZ",
        "colab_type": "code",
        "colab": {
          "base_uri": "https://localhost:8080/",
          "height": 35
        },
        "outputId": "be602c54-2b3b-4f5b-e528-2a61bc172302"
      },
      "cell_type": "code",
      "source": [
        "input1=features.shape[1]\n",
        "hidden=2\n",
        "output=1\n",
        "print(input1)"
      ],
      "execution_count": 31,
      "outputs": [
        {
          "output_type": "stream",
          "text": [
            "3\n"
          ],
          "name": "stdout"
        }
      ]
    },
    {
      "metadata": {
        "id": "4EBHg8pEIkBL",
        "colab_type": "code",
        "colab": {
          "base_uri": "https://localhost:8080/",
          "height": 104
        },
        "outputId": "fcd2fab6-aaad-4789-f580-24bbdc184d7d"
      },
      "cell_type": "code",
      "source": [
        "weight1=torch.randn(input1,hidden)\n",
        "weight2=torch.randn(hidden,output)\n",
        "print(weight1)\n",
        "print(weight2)"
      ],
      "execution_count": 34,
      "outputs": [
        {
          "output_type": "stream",
          "text": [
            "tensor([[0.1328, 0.1373],\n",
            "        [0.2405, 1.3955],\n",
            "        [1.3470, 2.4382]])\n",
            "tensor([[0.2028],\n",
            "        [2.4505]])\n"
          ],
          "name": "stdout"
        }
      ]
    },
    {
      "metadata": {
        "id": "gbe3q52uI4pM",
        "colab_type": "code",
        "colab": {
          "base_uri": "https://localhost:8080/",
          "height": 52
        },
        "outputId": "72b2cc9f-b78c-4e6f-98f7-5857d917ae8f"
      },
      "cell_type": "code",
      "source": [
        "bias1=torch.randn(1,hidden)\n",
        "bias2=torch.randn(1,output)\n",
        "print(bias1)\n",
        "print(bias2)"
      ],
      "execution_count": 35,
      "outputs": [
        {
          "output_type": "stream",
          "text": [
            "tensor([[2.0256, 1.7792]])\n",
            "tensor([[-0.9179]])\n"
          ],
          "name": "stdout"
        }
      ]
    },
    {
      "metadata": {
        "id": "a1LVBD-hJBao",
        "colab_type": "code",
        "colab": {
          "base_uri": "https://localhost:8080/",
          "height": 35
        },
        "outputId": "61328245-0098-4803-ef38-efb0b134ea39"
      },
      "cell_type": "code",
      "source": [
        "h=activation_function(torch.mm(features,weight1)+bias1)\n",
        "h"
      ],
      "execution_count": 36,
      "outputs": [
        {
          "output_type": "execute_result",
          "data": {
            "text/plain": [
              "tensor([[0.9698, 0.9943]])"
            ]
          },
          "metadata": {
            "tags": []
          },
          "execution_count": 36
        }
      ]
    },
    {
      "metadata": {
        "id": "L6VIvIJnJR2-",
        "colab_type": "code",
        "colab": {
          "base_uri": "https://localhost:8080/",
          "height": 52
        },
        "outputId": "b4938d35-24c7-44cb-88f4-4595e10d0c5f"
      },
      "cell_type": "code",
      "source": [
        "weight2"
      ],
      "execution_count": 27,
      "outputs": [
        {
          "output_type": "execute_result",
          "data": {
            "text/plain": [
              "tensor([[ 1.2799],\n",
              "        [-0.9941]])"
            ]
          },
          "metadata": {
            "tags": []
          },
          "execution_count": 27
        }
      ]
    },
    {
      "metadata": {
        "id": "MO_lDMrSJSll",
        "colab_type": "code",
        "colab": {}
      },
      "cell_type": "code",
      "source": [
        "output=activation_function(torch.mm(h,weight2)+bias2)"
      ],
      "execution_count": 0,
      "outputs": []
    },
    {
      "metadata": {
        "id": "3x7gjYJlJdO-",
        "colab_type": "code",
        "colab": {
          "base_uri": "https://localhost:8080/",
          "height": 35
        },
        "outputId": "1758ac14-d16a-4138-c0a7-1de4a0dd192d"
      },
      "cell_type": "code",
      "source": [
        "output"
      ],
      "execution_count": 29,
      "outputs": [
        {
          "output_type": "execute_result",
          "data": {
            "text/plain": [
              "tensor([[0.9370]])"
            ]
          },
          "metadata": {
            "tags": []
          },
          "execution_count": 29
        }
      ]
    },
    {
      "metadata": {
        "id": "Qo6oCCIwL9fH",
        "colab_type": "text"
      },
      "cell_type": "markdown",
      "source": [
        "Thats it :-)"
      ]
    }
  ]
}